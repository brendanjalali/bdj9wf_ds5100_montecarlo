{
 "cells": [
  {
   "cell_type": "markdown",
   "metadata": {},
   "source": [
    "# Final Project Report\n",
    "\n",
    "* Class: DS 5100\n",
    "* Student Name: Brendan Jalali\n",
    "* Student Net ID: bdj9wf\n",
    "* This URL: https://github.com/brendanjalali/bdj9wf_ds5100_montecarlo/blob/main/FinalProjectTemplate.ipynb"
   ]
  },
  {
   "cell_type": "markdown",
   "metadata": {},
   "source": [
    "# Instructions\n",
    "\n",
    "Follow the instructions in the [Final Project](https://ontoligent.github.io/DS5100-2023-07-R/notebooks/M00_FinalProject/FinalProjectInstructions.html) isntructions and put your work in this notebook.\n",
    "\n",
    "Total points for each subsection under **Deliverables** and **Scenarios** are given in parentheses.\n",
    "\n",
    "Breakdowns of points within subsections are specified within subsection instructions as bulleted lists.\n",
    "\n",
    "This project is worth **50 points**."
   ]
  },
  {
   "cell_type": "markdown",
   "metadata": {},
   "source": [
    "# Deliverables"
   ]
  },
  {
   "cell_type": "markdown",
   "metadata": {},
   "source": [
    "## The Monte Carlo Module (10)\n",
    "\n",
    "- URL included, appropriately named (1).\n",
    "- Includes all three specified classes (3).\n",
    "- Includes at least all 12 specified methods (6; .5 each)."
   ]
  },
  {
   "cell_type": "markdown",
   "metadata": {},
   "source": [
    "Put the URL to your GitHub repo here.\n",
    "\n",
    "Repo URL: https://github.com/brendanjalali/bdj9wf_ds5100_montecarlo"
   ]
  },
  {
   "cell_type": "markdown",
   "metadata": {},
   "source": [
    "Paste a copyy of your module here.\n",
    "\n",
    "NOTE: Paste as text, not as code. Use triple backticks to wrap your code blocks."
   ]
  },
  {
   "cell_type": "raw",
   "metadata": {},
   "source": [
    "# A code block with your classes.\n",
    "import pandas as pd\n",
    "import numpy as np\n",
    "\n",
    "\n",
    "# Die class \n",
    "class Die:\n",
    "    \"\"\"\n",
    "    PURPOSE: Creates a die object with initializer and 3 methods to change the weighting of the die, roll the die, and show the state of the die\n",
    "    \"\"\"\n",
    "    # constructor\n",
    "    def __init__(self, faces):\n",
    "        \"\"\"\n",
    "        PURPOSE: Constructor for the die object\n",
    "\n",
    "        INPUTS\n",
    "        faces    numpy array of face values (int or str)\n",
    "\n",
    "        ERRORS\n",
    "        TypeError    Checks if the inputed faces are a numpy array\n",
    "        ValueError    Checks that the faces are unique\n",
    "        \"\"\"\n",
    "        if not isinstance(faces, np.ndarray):\n",
    "            raise TypeError(\"Make sure faces is a Numpy Array.\")\n",
    "        if len(faces) != len(np.unique(faces)):\n",
    "            raise ValueError(\"Face values must be distinct.\")\n",
    "        \n",
    "        self._df = pd.DataFrame({'weights': [1.0]*len(faces)}, index=faces)\n",
    "    \n",
    "    #Method 1: Change weight of single side\n",
    "    def change_weight(self, face_val, weight_val):\n",
    "        \"\"\"\n",
    "        PURPOSE: Changes weight of a specific face of the die object\n",
    "\n",
    "        INPUTS\n",
    "        face_val    face whose weight is to be changed (int or str)\n",
    "        weight_val    value of the weight to be changed (int or str)\n",
    "\n",
    "        ERRORS\n",
    "        IndexError    Checks if the face is in the die\n",
    "        TypeError    makes sure weight is castable as an int\n",
    "        \"\"\"\n",
    "        if face_val not in self._df.index:\n",
    "            raise IndexError(\"Face of die doesn't exist\")\n",
    "        if not (isinstance(weight_val, (int, float)) or str(weight_val).isnumeric()):\n",
    "            raise TypeError(\"Weight must be new numeric or castable as numeric\")\n",
    "        \n",
    "        self._df.loc[face_val, 'weights'] = weight_val\n",
    "    \n",
    "    #Method 2: Roll the die one or more times\n",
    "    def roll(self, rolls = 1):\n",
    "        \"\"\"\n",
    "        PURPOSE: \"rolls\" the die, ie outputs the face that is chosen\n",
    "\n",
    "        INPUTS\n",
    "        rolls    default of 1, number of rolls being attempted\n",
    "\n",
    "        OUTPUT\n",
    "        list of rolls min size of 1 with all the faces that were chosen with replacement\n",
    "        \"\"\"\n",
    "        return np.random.choice(self._df.index, size=rolls, p=self._df['weights']/np.sum(self._df['weights'])).tolist()\n",
    "    \n",
    "    #Method 3: Shows current state of die\n",
    "    def show_state(self):\n",
    "        \"\"\"\n",
    "        PURPOSE: return the dataframe of the die faces and their respective weights\n",
    "\n",
    "        OUTPUT\n",
    "        returns a copy of the private dataframe of the state of the die\n",
    "        \"\"\"\n",
    "        return self._df.copy()\n",
    "    \n",
    "\n",
    "# Game Class\n",
    "class Game:\n",
    "    \"\"\"\n",
    "    PURPOSE: Allows for the rolling of multiple similar dice at once\n",
    "    \"\"\"\n",
    "    # constructor\n",
    "    def __init__(self, die_list):\n",
    "        \"\"\"\n",
    "        PURPOSE: Contructor for the game class\n",
    "\n",
    "        INPUTS\n",
    "        die_list    list of the similar dies that you wanted to roll\n",
    "        \"\"\"\n",
    "        self.die_list = die_list\n",
    "        self._df = None\n",
    "      \n",
    "    #Method 1: method to make a play (roll the dice in dice list)\n",
    "    def play(self, num_rolls):\n",
    "        \"\"\"\n",
    "        PURPOSE: \"rolls\" each the die, ie outputs the face that is chosen for each of the die rolled\n",
    "\n",
    "        INPUTS\n",
    "        num_rolls    number of rolls for each of the similar dice\n",
    "        \"\"\"\n",
    "        results = {}\n",
    "        \n",
    "        for i, die in enumerate(self.die_list):\n",
    "            results[f'die_{i}'] = die.roll(num_rolls)\n",
    "        self._df = pd.DataFrame(results)\n",
    "        \n",
    "    #Method 2:\n",
    "    def show_results(self, form='wide'):\n",
    "        \"\"\"\n",
    "        PURPOSE: shows the state of the game with all the dies and their rolled faces \n",
    "\n",
    "        INPUTS\n",
    "        form    defaults to wide, can be set to narrow (the shape of the df)\n",
    "\n",
    "        OUTPUT\n",
    "        returns either the form of the data frame, with all dies and their rolled faces\n",
    "        \"\"\"\n",
    "        if form == 'wide':\n",
    "            if self._df is None:\n",
    "                return pd.DataFrame()\n",
    "            return self._df.copy()\n",
    "        elif form == \"narrow\":\n",
    "            if self._df is None:\n",
    "                return pd.DataFrame()\n",
    "            else:\n",
    "                return self._df.melt(ignore_index=False, var_names='die_number', value_name='outcomes')\n",
    "        else:\n",
    "            raise ValueError(\"make sure input is 'wide' or 'narrow'\")\n",
    "\n",
    "# Analyzer Class\n",
    "class Analyzer:\n",
    "    \"\"\"\n",
    "    PURPOSE: takes the game class object and does multiple analysis\n",
    "    \"\"\"\n",
    "    # constructor\n",
    "    def __init__(self, game):\n",
    "        \"\"\"\n",
    "        PURPOSE: Contructor for the Analyzer class\n",
    "\n",
    "        INPUTS\n",
    "        game    the game object with the all the rolls and faces that were chosen\n",
    "\n",
    "        ERRORS\n",
    "        ValueError    Checks that it is a game object that is inputed\n",
    "        \"\"\"\n",
    "        if not isinstance(game, Game):\n",
    "            raise ValueError(\"Make sure you input a Game object\")\n",
    "        self.game = game\n",
    "    \n",
    "    #Method 1: Jackpot is the result when all the faces are the same\n",
    "    def jackpot(self):\n",
    "        \"\"\"\n",
    "        PURPOSE: returns the number of time where all the faces rolled in a game were the same \n",
    "        \"\"\"\n",
    "        return(self.game.show_results().eq(self.game.show_results().iloc[:, 0], axis=0).all(1).sum())\n",
    "\n",
    "    #Method 2: Computes how many times a given face is rolled in each event.\n",
    "    def face_counts(self):\n",
    "        \"\"\"\n",
    "        PURPOSE: Computes how many times a given face is rolled in each event \n",
    "\n",
    "        OUTPUT\n",
    "        returns a dataframe of the face counts per roll on from the inputed game\n",
    "        \"\"\"\n",
    "        return(self.game.show_results().apply(pd.Series.value_counts, axis=1))\n",
    "    \n",
    "    #Method 3: Computes the distinct combinations of faces rolled, along with their counts\n",
    "    def combo_counts(self):\n",
    "        \"\"\"\n",
    "        PURPOSE: Computes the distinct combinations of faces rolled, along with their counts\n",
    "\n",
    "        OUTPUT\n",
    "        returns a dataframe of the combo counts from the inputed game\n",
    "        \"\"\"\n",
    "        return(pd.DataFrame(self.game.show_results().apply(lambda row: tuple(row), axis=1).value_counts(), columns=['counts']))\n",
    "    \n",
    "    #Method 4: Computes the distinct permutations of faces rolled, along with their counts\n",
    "    def permutation_counts(self):\n",
    "        \"\"\"\n",
    "        PURPOSE: Computes the distinct permutations of faces rolled, along with their counts.\n",
    "\n",
    "        OUTPUT\n",
    "        returns a dataframe of the distinct permutations of the faces rolled from the inputed game\n",
    "        \"\"\"\n",
    "        return(pd.DataFrame(self.game.show_results().apply(lambda row: ''.join(map(str, row)), axis=1).value_counts(), columns=['counts']))"
   ]
  },
  {
   "cell_type": "markdown",
   "metadata": {},
   "source": [
    "## Unitest Module (2)\n",
    "\n",
    "Paste a copy of your test module below.\n",
    "\n",
    "NOTE: Paste as text, not as code. Use triple backticks to wrap your code blocks.\n",
    "\n",
    "- All methods have at least one test method (1).\n",
    "- Each method employs one of Unittest's Assert methods (1)."
   ]
  },
  {
   "cell_type": "raw",
   "metadata": {},
   "source": [
    "# A code block with your test code.\n",
    "from Demo.montecarlo import Die, Game, Analyzer\n",
    "\n",
    "import unittest\n",
    "import pandas as pd\n",
    "import numpy as np\n",
    "\n",
    "class TestDieMethods(unittest.TestCase):\n",
    "    def test_init_die(self):\n",
    "        test_faces = np.array([1, 2, 3, 4, 5, 6])\n",
    "        die = Die(test_faces)\n",
    "        self.assertIsInstance(die.show_state(), pd.DataFrame)\n",
    "\n",
    "    def test_change_weight(self):\n",
    "        test_faces = np.array([1, 2, 3, 4, 5, 6])\n",
    "        die = Die(test_faces)\n",
    "        die.change_weight(1, 2.5)\n",
    "        self.assertEqual(die.show_state().loc[1, 'weights'], 2.5)\n",
    "\n",
    "    def test_roll(self):\n",
    "        test_faces = np.array([1, 2, 3, 4, 5, 6])\n",
    "        die = Die(test_faces)\n",
    "        outcomes = die.roll(10)\n",
    "        self.assertEqual(len(outcomes), 10)\n",
    "\n",
    "    def test_show_state(self):\n",
    "        test_faces = np.array([1, 2, 3, 4, 5, 6])\n",
    "        die = Die(test_faces)\n",
    "        state = die.show_state()\n",
    "        self.assertIsInstance(state, pd.DataFrame)\n",
    "\n",
    "class TestGameMethods(unittest.TestCase):\n",
    "    def test_init_game(self):\n",
    "        test_faces = np.array([1, 2, 3, 4, 5, 6])\n",
    "        die1 = Die(test_faces)\n",
    "        die2 = Die(test_faces)\n",
    "        game = Game([die1, die2])\n",
    "        self.assertIsInstance(game.die_list, list)\n",
    "\n",
    "    def test_play(self):\n",
    "        test_faces = np.array([1, 2, 3, 4, 5, 6])\n",
    "        die1 = Die(test_faces)\n",
    "        die2 = Die(test_faces)\n",
    "        game = Game([die1, die2])\n",
    "        game.play(5)\n",
    "        self.assertIsNotNone(game.show_results())\n",
    "\n",
    "    def test_show_results(self):\n",
    "        test_faces = np.array([1, 2, 3, 4, 5, 6])\n",
    "        die1 = Die(test_faces)\n",
    "        die2 = Die(test_faces)\n",
    "        game = Game([die1, die2])\n",
    "        game.play(5)\n",
    "        results = game.show_results()\n",
    "        self.assertIsInstance(results, pd.DataFrame)\n",
    "        \n",
    "class TestAnalyzerMethods(unittest.TestCase):\n",
    "    def test_analyzer(self):\n",
    "        test_faces = np.array([1, 2, 3, 4, 5, 6])\n",
    "        die1 = Die(test_faces)\n",
    "        die2 = Die(test_faces)\n",
    "        game = Game([die1, die2])\n",
    "        game.play(5)\n",
    "        analyzer = Analyzer(game)\n",
    "\n",
    "    def test_combo_counts(self):\n",
    "        test_faces = np.array([1, 2, 3, 4, 5, 6])\n",
    "        die1 = Die(test_faces)\n",
    "        die2 = Die(test_faces)\n",
    "        game = Game([die1, die2])\n",
    "        game.play(5)\n",
    "        analyzer = Analyzer(game)\n",
    "        combos = analyzer.combo_counts()\n",
    "        self.assertIsInstance(combos, pd.DataFrame)\n",
    "\n",
    "    def test_face_counts(self):\n",
    "        test_faces = np.array([1, 2, 3, 4, 5, 6])\n",
    "        die1 = Die(test_faces)\n",
    "        die2 = Die(test_faces)\n",
    "        game = Game([die1, die2])\n",
    "        game.play(5)\n",
    "        analyzer = Analyzer(game)\n",
    "        counts = analyzer.face_counts()\n",
    "        self.assertIsInstance(counts, pd.DataFrame)\n",
    "\n",
    "    def test_permutation_counts(self):\n",
    "        test_faces = np.array([1, 2, 3, 4, 5, 6])\n",
    "        die1 = Die(test_faces)\n",
    "        die2 = Die(test_faces)\n",
    "        game = Game([die1, die2])\n",
    "        game.play(5)\n",
    "        analyzer = Analyzer(game)\n",
    "        perms = analyzer.permutation_counts()\n",
    "        self.assertIsInstance(perms, pd.DataFrame)\n",
    "    \n",
    "if __name__ == '__main__':\n",
    "    unittest.main(verbosity=2)"
   ]
  },
  {
   "cell_type": "markdown",
   "metadata": {
    "tags": []
   },
   "source": [
    "## Unittest Results (3)\n",
    "\n",
    "Put a copy of the results of running your tests from the command line here.\n",
    "\n",
    "Again, paste as text using triple backticks.\n",
    "\n",
    "- All 12 specified methods return OK (3; .25 each)."
   ]
  },
  {
   "cell_type": "raw",
   "metadata": {
    "tags": []
   },
   "source": [
    "test_combo_counts (__main__.TestAnalyzerMethods) ... ok\n",
    "test_face_counts (__main__.TestAnalyzerMethods) ... ok\n",
    "test_init_analyzer (__main__.TestAnalyzerMethods) ... ok\n",
    "test_jackpot (__main__.TestAnalyzerMethods) ... ok\n",
    "test_permutation_counts (__main__.TestAnalyzerMethods) ... ok\n",
    "test_change_weight (__main__.TestDieMethods) ... ok\n",
    "test_init_die (__main__.TestDieMethods) ... ok\n",
    "test_roll (__main__.TestDieMethods) ... ok\n",
    "test_show_state (__main__.TestDieMethods) ... ok\n",
    "test_init_game (__main__.TestGameMethods) ... ok\n",
    "test_play (__main__.TestGameMethods) ... ok\n",
    "test_show_results (__main__.TestGameMethods) ... ok\n",
    "\n",
    "----------------------------------------------------------------------\n",
    "Ran 12 tests in 0.045s\n",
    "\n",
    "OK"
   ]
  },
  {
   "cell_type": "markdown",
   "metadata": {},
   "source": [
    "## Import (1)\n",
    "\n",
    "Import your module here. This import should refer to the code in your package directory.\n",
    "\n",
    "- Module successuflly imported (1)."
   ]
  },
  {
   "cell_type": "code",
   "execution_count": 3,
   "metadata": {
    "tags": []
   },
   "outputs": [
    {
     "name": "stdout",
     "output_type": "stream",
     "text": [
      "Welcome to Brendan Jalali's Final Poject Module\n"
     ]
    }
   ],
   "source": [
    "# e.g. import montecarlo.montecarlo \n",
    "import Demo.montecarlo"
   ]
  },
  {
   "cell_type": "markdown",
   "metadata": {},
   "source": [
    "## Help Docs (4)\n",
    "\n",
    "Show your docstring documentation by applying `help()` to your imported module.\n",
    "\n",
    "- All methods have a docstring (3; .25 each).\n",
    "- All classes have a docstring (1; .33 each)."
   ]
  },
  {
   "cell_type": "code",
   "execution_count": 5,
   "metadata": {
    "tags": []
   },
   "outputs": [
    {
     "name": "stdout",
     "output_type": "stream",
     "text": [
      "Help on module Demo.montecarlo in Demo:\n",
      "\n",
      "NAME\n",
      "    Demo.montecarlo\n",
      "\n",
      "CLASSES\n",
      "    builtins.object\n",
      "        Analyzer\n",
      "        Die\n",
      "        Game\n",
      "    \n",
      "    class Analyzer(builtins.object)\n",
      "     |  Analyzer(game)\n",
      "     |  \n",
      "     |  PURPOSE: takes the game class object and does multiple analysis\n",
      "     |  \n",
      "     |  Methods defined here:\n",
      "     |  \n",
      "     |  __init__(self, game)\n",
      "     |      PURPOSE: Contructor for the Analyzer class\n",
      "     |      \n",
      "     |      INPUTS\n",
      "     |      game    the game object with the all the rolls and faces that were chosen\n",
      "     |      \n",
      "     |      ERRORS\n",
      "     |      ValueError    Checks that it is a game object that is inputed\n",
      "     |  \n",
      "     |  combo_counts(self)\n",
      "     |      PURPOSE: Computes the distinct combinations of faces rolled, along with their counts\n",
      "     |      \n",
      "     |      OUTPUT\n",
      "     |      returns a dataframe of the combo counts from the inputed game\n",
      "     |  \n",
      "     |  face_counts(self)\n",
      "     |      PURPOSE: Computes how many times a given face is rolled in each event \n",
      "     |      \n",
      "     |      OUTPUT\n",
      "     |      returns a dataframe of the face counts per roll on from the inputed game\n",
      "     |  \n",
      "     |  jackpot(self)\n",
      "     |      PURPOSE: returns the number of time where all the faces rolled in a game were the same\n",
      "     |  \n",
      "     |  permutation_counts(self)\n",
      "     |      PURPOSE: Computes the distinct permutations of faces rolled, along with their counts.\n",
      "     |      \n",
      "     |      OUTPUT\n",
      "     |      returns a dataframe of the distinct permutations of the faces rolled from the inputed game\n",
      "     |  \n",
      "     |  ----------------------------------------------------------------------\n",
      "     |  Data descriptors defined here:\n",
      "     |  \n",
      "     |  __dict__\n",
      "     |      dictionary for instance variables (if defined)\n",
      "     |  \n",
      "     |  __weakref__\n",
      "     |      list of weak references to the object (if defined)\n",
      "    \n",
      "    class Die(builtins.object)\n",
      "     |  Die(faces)\n",
      "     |  \n",
      "     |  PURPOSE: Creates a die object with initializer and 3 methods to change the weighting of the die, roll the die, and show the state of the die\n",
      "     |  \n",
      "     |  Methods defined here:\n",
      "     |  \n",
      "     |  __init__(self, faces)\n",
      "     |      PURPOSE: Constructor for the die object\n",
      "     |      \n",
      "     |      INPUTS\n",
      "     |      faces    numpy array of face values (int or str)\n",
      "     |      \n",
      "     |      ERRORS\n",
      "     |      TypeError    Checks if the inputed faces are a numpy array\n",
      "     |      ValueError    Checks that the faces are unique\n",
      "     |  \n",
      "     |  change_weight(self, face_val, weight_val)\n",
      "     |      PURPOSE: Changes weight of a specific face of the die object\n",
      "     |      \n",
      "     |      INPUTS\n",
      "     |      face_val    face whose weight is to be changed (int or str)\n",
      "     |      weight_val    value of the weight to be changed (int or str)\n",
      "     |      \n",
      "     |      ERRORS\n",
      "     |      IndexError    Checks if the face is in the die\n",
      "     |      TypeError    makes sure weight is castable as an int\n",
      "     |  \n",
      "     |  roll(self, rolls=1)\n",
      "     |      PURPOSE: \"rolls\" the die, ie outputs the face that is chosen\n",
      "     |      \n",
      "     |      INPUTS\n",
      "     |      rolls    default of 1, number of rolls being attempted\n",
      "     |      \n",
      "     |      OUTPUT\n",
      "     |      list of rolls min size of 1 with all the faces that were chosen with replacement\n",
      "     |  \n",
      "     |  show_state(self)\n",
      "     |      PURPOSE: return the dataframe of the die faces and their respective weights\n",
      "     |      \n",
      "     |      OUTPUT\n",
      "     |      returns a copy of the private dataframe of the state of the die\n",
      "     |  \n",
      "     |  ----------------------------------------------------------------------\n",
      "     |  Data descriptors defined here:\n",
      "     |  \n",
      "     |  __dict__\n",
      "     |      dictionary for instance variables (if defined)\n",
      "     |  \n",
      "     |  __weakref__\n",
      "     |      list of weak references to the object (if defined)\n",
      "    \n",
      "    class Game(builtins.object)\n",
      "     |  Game(die_list)\n",
      "     |  \n",
      "     |  PURPOSE: Allows for the rolling of multiple similar dice at once\n",
      "     |  \n",
      "     |  Methods defined here:\n",
      "     |  \n",
      "     |  __init__(self, die_list)\n",
      "     |      PURPOSE: Contructor for the game class\n",
      "     |      \n",
      "     |      INPUTS\n",
      "     |      die_list    list of the similar dies that you wanted to roll\n",
      "     |  \n",
      "     |  play(self, num_rolls)\n",
      "     |      PURPOSE: \"rolls\" each the die, ie outputs the face that is chosen for each of the die rolled\n",
      "     |      \n",
      "     |      INPUTS\n",
      "     |      num_rolls    number of rolls for each of the similar dice\n",
      "     |  \n",
      "     |  show_results(self, form='wide')\n",
      "     |      PURPOSE: shows the state of the game with all the dies and their rolled faces \n",
      "     |      \n",
      "     |      INPUTS\n",
      "     |      form    defaults to wide, can be set to narrow (the shape of the df)\n",
      "     |      \n",
      "     |      OUTPUT\n",
      "     |      returns either the form of the data frame, with all dies and their rolled faces\n",
      "     |  \n",
      "     |  ----------------------------------------------------------------------\n",
      "     |  Data descriptors defined here:\n",
      "     |  \n",
      "     |  __dict__\n",
      "     |      dictionary for instance variables (if defined)\n",
      "     |  \n",
      "     |  __weakref__\n",
      "     |      list of weak references to the object (if defined)\n",
      "\n",
      "FILE\n",
      "    /sfs/qumulo/qhome/bdj9wf/Documents/MSDS/DS5100/bdj9wf_ds5100_montecarlo/Demo/montecarlo.py\n",
      "\n",
      "\n"
     ]
    }
   ],
   "source": [
    "# help(montecarlo)\n",
    "help(Demo.montecarlo)"
   ]
  },
  {
   "cell_type": "markdown",
   "metadata": {},
   "source": [
    "## `README.md` File (3)\n",
    "\n",
    "Provide link to the README.md file of your project's repo.\n",
    "\n",
    "- Metadata section or info present (1).\n",
    "- Synopsis section showing how each class is called (1). (All must be included.)\n",
    "- API section listing all classes and methods (1). (All must be included.)"
   ]
  },
  {
   "cell_type": "markdown",
   "metadata": {},
   "source": [
    "URL: https://github.com/brendanjalali/bdj9wf_ds5100_montecarlo/blob/main/README.md"
   ]
  },
  {
   "cell_type": "markdown",
   "metadata": {},
   "source": [
    "## Successful installation (2)\n",
    "\n",
    "Put a screenshot or paste a copy of a terminal session where you successfully install your module with pip.\n",
    "\n",
    "If pasting text, use a preformatted text block to show the results.\n",
    "\n",
    "- Installed with `pip` (1).\n",
    "- Successfully installed message appears (1)."
   ]
  },
  {
   "cell_type": "raw",
   "metadata": {},
   "source": [
    "# Pasted code\n",
    "[bdj9wf bdj9wf_ds5100_montecarlo]$ pip install -e .\n",
    "Defaulting to user installation because normal site-packages is not writeable\n",
    "Obtaining file:///sfs/qumulo/qhome/bdj9wf/Documents/MSDS/DS5100/bdj9wf_ds5100_montecarlo\n",
    "Requirement already satisfied: pandas in /sfs/applications/202307/software/standard/core/anaconda/2020.11-py3.8/lib/python3.8/site-packages (from Demo==0.1) (1.1.3)\n",
    "Requirement already satisfied: numpy in /sfs/applications/202307/software/standard/core/anaconda/2020.11-py3.8/lib/python3.8/site-packages (from Demo==0.1) (1.19.2)\n",
    "Requirement already satisfied: matplotlib in /sfs/applications/202307/software/standard/core/anaconda/2020.11-py3.8/lib/python3.8/site-packages (from Demo==0.1) (3.3.2)\n",
    "Requirement already satisfied: pytz>=2017.2 in /sfs/applications/202307/software/standard/core/anaconda/2020.11-py3.8/lib/python3.8/site-packages (from pandas->Demo==0.1) (2020.1)\n",
    "Requirement already satisfied: python-dateutil>=2.7.3 in /sfs/applications/202307/software/standard/core/anaconda/2020.11-py3.8/lib/python3.8/site-packages (from pandas->Demo==0.1) (2.8.1)\n",
    "Requirement already satisfied: kiwisolver>=1.0.1 in /sfs/applications/202307/software/standard/core/anaconda/2020.11-py3.8/lib/python3.8/site-packages (from matplotlib->Demo==0.1) (1.3.0)\n",
    "Requirement already satisfied: certifi>=2020.06.20 in /sfs/applications/202307/software/standard/core/anaconda/2020.11-py3.8/lib/python3.8/site-packages (from matplotlib->Demo==0.1) (2023.11.17)\n",
    "Requirement already satisfied: cycler>=0.10 in /sfs/applications/202307/software/standard/core/anaconda/2020.11-py3.8/lib/python3.8/site-packages (from matplotlib->Demo==0.1) (0.10.0)\n",
    "Requirement already satisfied: pyparsing!=2.0.4,!=2.1.2,!=2.1.6,>=2.0.3 in /sfs/applications/202307/software/standard/core/anaconda/2020.11-py3.8/lib/python3.8/site-packages (from matplotlib->Demo==0.1) (2.4.7)\n",
    "Requirement already satisfied: pillow>=6.2.0 in /sfs/applications/202307/software/standard/core/anaconda/2020.11-py3.8/lib/python3.8/site-packages (from matplotlib->Demo==0.1) (8.0.1)\n",
    "Requirement already satisfied: six>=1.5 in /sfs/applications/202307/software/standard/core/anaconda/2020.11-py3.8/lib/python3.8/site-packages (from python-dateutil>=2.7.3->pandas->Demo==0.1) (1.15.0)\n",
    "Installing collected packages: Demo\n",
    "  Attempting uninstall: Demo\n",
    "    Found existing installation: Demo 0.1\n",
    "    Uninstalling Demo-0.1:\n",
    "      Successfully uninstalled Demo-0.1\n",
    "  Running setup.py develop for Demo\n",
    "Successfully installed Demo"
   ]
  },
  {
   "cell_type": "markdown",
   "metadata": {},
   "source": [
    "# Scenarios\n",
    "\n",
    "Use code blocks to perform the tasks for each scenario.\n",
    "\n",
    "Be sure the outputs are visible before submitting."
   ]
  },
  {
   "cell_type": "code",
   "execution_count": null,
   "metadata": {},
   "outputs": [],
   "source": [
    "from Demo.montecarlo import Die, Game, Analyzer\n",
    "\n",
    "import numpy as np\n",
    "import pandas as pd\n",
    "import matplotlib.pyplot as plt\n",
    "\n",
    "np.random.seed(5100)"
   ]
  },
  {
   "cell_type": "markdown",
   "metadata": {
    "tags": []
   },
   "source": [
    "## Scenario 1: A 2-headed Coin (9)\n",
    "\n",
    "Task 1. Create a fair coin (with faces $H$ and $T$) and one unfair coin in which one of the faces has a weight of $5$ and the others $1$.\n",
    "\n",
    "- Fair coin created (1).\n",
    "- Unfair coin created with weight as specified (1)."
   ]
  },
  {
   "cell_type": "code",
   "execution_count": null,
   "metadata": {},
   "outputs": [],
   "source": [
    "fcoin = Die(np.array(['H', 'T']))\n",
    "ucoin = Die(np.array(['H', 'T']))\n",
    "ucoin.change_weight('H', 5)"
   ]
  },
  {
   "cell_type": "markdown",
   "metadata": {},
   "source": [
    "Task 2. Play a game of $1000$ flips with two fair dice.\n",
    "\n",
    "- Play method called correclty and without error (1)."
   ]
  },
  {
   "cell_type": "code",
   "execution_count": null,
   "metadata": {},
   "outputs": [],
   "source": [
    "gameff = Game([fcoin, fcoin])\n",
    "gameff.play(1000)"
   ]
  },
  {
   "cell_type": "markdown",
   "metadata": {},
   "source": [
    "Task 3. Play another game (using a new Game object) of $1000$ flips, this time using two unfair dice and one fair die. For the second unfair die, you can use the same die object twice in the list of dice you pass to the Game object.\n",
    "\n",
    "- New game object created (1).\n",
    "- Play method called correclty and without error (1)."
   ]
  },
  {
   "cell_type": "code",
   "execution_count": null,
   "metadata": {},
   "outputs": [],
   "source": [
    "gameuuf = Game([ucoin, ucoin, fcoin])\n",
    "gameuuf.play(1000)"
   ]
  },
  {
   "cell_type": "markdown",
   "metadata": {},
   "source": [
    "Task 4. For each game, use an Analyzer object to determine the raw frequency of jackpots — i.e. getting either all $H$s or all $T$s.\n",
    "\n",
    "- Analyzer objecs instantiated for both games (1).\n",
    "- Raw frequencies reported for both (1)."
   ]
  },
  {
   "cell_type": "code",
   "execution_count": null,
   "metadata": {},
   "outputs": [],
   "source": [
    "numjackff = Analyzer(gameff).jackpot()\n",
    "print(numjackff)\n",
    "numjackuuf = Analyzer(gameuuf).jackpot()\n",
    "print(numjackuuf)"
   ]
  },
  {
   "cell_type": "markdown",
   "metadata": {},
   "source": [
    "Task 5. For each analyzer, compute relative frequency as the number of jackpots over the total number of rolls.\n",
    "\n",
    "- Both relative frequencies computed (1)."
   ]
  },
  {
   "cell_type": "code",
   "execution_count": null,
   "metadata": {},
   "outputs": [],
   "source": [
    "reljackff = numjackff/1000\n",
    "reljackuuf = numjackuuf/1000"
   ]
  },
  {
   "cell_type": "markdown",
   "metadata": {},
   "source": [
    "Task 6. Show your results, comparing the two relative frequencies, in a simple bar chart.\n",
    "\n",
    "- Bar chart plotted and correct (1)."
   ]
  },
  {
   "cell_type": "code",
   "execution_count": null,
   "metadata": {},
   "outputs": [],
   "source": [
    "plot1 = plt.bar(x = ['2 Fair Coins','2 Unfair Coins 1 Fair Coin'], height = [reljackff,reljackuuf])\n",
    "plt.show()"
   ]
  },
  {
   "cell_type": "markdown",
   "metadata": {},
   "source": [
    "## Scenario 2: A 6-sided Die (9)\n",
    "\n",
    "Task 1. Create three dice, each with six sides having the faces 1 through 6.\n",
    "\n",
    "- Three die objects created (1)."
   ]
  },
  {
   "cell_type": "code",
   "execution_count": null,
   "metadata": {},
   "outputs": [],
   "source": [
    "d = Die(np.array([1, 2, 3, 4, 5, 6]))\n",
    "\n",
    "ud1 = Die(np.array([1, 2, 3, 4, 5, 6]))\n",
    "ud2 = Die(np.array([1, 2, 3, 4, 5, 6]))"
   ]
  },
  {
   "cell_type": "markdown",
   "metadata": {},
   "source": [
    "Task 2. Convert one of the dice to an unfair one by weighting the face $6$ five times more than the other weights (i.e. it has weight of 5 and the others a weight of 1 each).\n",
    "\n",
    "- Unfair die created with proper call to weight change method (1)."
   ]
  },
  {
   "cell_type": "code",
   "execution_count": null,
   "metadata": {},
   "outputs": [],
   "source": [
    "ud1.change_weight(6, 5)"
   ]
  },
  {
   "cell_type": "markdown",
   "metadata": {},
   "source": [
    "Task 3. Convert another of the dice to be unfair by weighting the face $1$ five times more than the others.\n",
    "\n",
    "- Unfair die created with proper call to weight change method (1)."
   ]
  },
  {
   "cell_type": "code",
   "execution_count": null,
   "metadata": {},
   "outputs": [],
   "source": [
    "ud2.change_weight(1, 5)"
   ]
  },
  {
   "cell_type": "markdown",
   "metadata": {},
   "source": [
    "Task 4. Play a game of $10000$ rolls with $5$ fair dice.\n",
    "\n",
    "- Game class properly instantiated (1). \n",
    "- Play method called properly (1)."
   ]
  },
  {
   "cell_type": "code",
   "execution_count": null,
   "metadata": {},
   "outputs": [],
   "source": [
    "gamefffff = Game([d, d, d, d, d])\n",
    "gamefffff.play(10000)"
   ]
  },
  {
   "cell_type": "markdown",
   "metadata": {},
   "source": [
    "Task 5. Play another game of $10000$ rolls, this time with $2$ unfair dice, one as defined in steps #2 and #3 respectively, and $3$ fair dice.\n",
    "\n",
    "- Game class properly instantiated (1). \n",
    "- Play method called properly (1)."
   ]
  },
  {
   "cell_type": "code",
   "execution_count": null,
   "metadata": {},
   "outputs": [],
   "source": [
    "gameuufff = Game([ud1, ud2, d, d, d])\n",
    "gameuufff.play(10000)"
   ]
  },
  {
   "cell_type": "markdown",
   "metadata": {},
   "source": [
    "Task 6. For each game, use an Analyzer object to determine the relative frequency of jackpots and show your results, comparing the two relative frequencies, in a simple bar chart.\n",
    "\n",
    "- Jackpot methods called (1).\n",
    "- Graph produced (1)."
   ]
  },
  {
   "cell_type": "code",
   "execution_count": null,
   "metadata": {},
   "outputs": [],
   "source": [
    "numjackfffff = Analyzer(gamefffff).jackpot()\n",
    "numjackuufff = Analyzer(gameuufff).jackpot()\n",
    "\n",
    "reljackfffff = numjackfffff / 10000\n",
    "reljackuufff = numjackuufff / 10000\n",
    "\n",
    "plt.bar(x=['Fair Game', 'Unfair Game'], height=[reljackfffff, reljackuufff])\n",
    "plt.show()"
   ]
  },
  {
   "cell_type": "markdown",
   "metadata": {},
   "source": [
    "## Scenario 3: Letters of the Alphabet (7)\n",
    "\n",
    "Task 1. Create a \"die\" of letters from $A$ to $Z$ with weights based on their frequency of usage as found in the data file `english_letters.txt`. Use the frequencies (i.e. raw counts) as weights.\n",
    "\n",
    "- Die correctly instantiated with source file data (1).\n",
    "- Weights properly applied using weight setting method (1)."
   ]
  },
  {
   "cell_type": "code",
   "execution_count": null,
   "metadata": {},
   "outputs": [],
   "source": [
    "letterdf = pd.read_csv(\"data/english_letters.txt\", sep=' ', header=None, names=['Letters', 'Frequencies'])\n",
    "\n",
    "ld = Die(np.array(list(letterdf[\"Letters\"])))\n",
    "freqs = np.array(list(letterdf[\"Frequencies\"]))\n",
    "\n",
    "for index, row in letterdf.iterrows():\n",
    "    ld.change_weight(row['Letters'], row['Frequencies'])"
   ]
  },
  {
   "cell_type": "markdown",
   "metadata": {},
   "source": [
    "Task 2. Play a game involving $4$ of these dice with $1000$ rolls.\n",
    "\n",
    "- Game play method properly called (1)."
   ]
  },
  {
   "cell_type": "code",
   "execution_count": null,
   "metadata": {},
   "outputs": [],
   "source": [
    "game4l = Game([ld, ld, ld, ld])\n",
    "game4l.play(1000)"
   ]
  },
  {
   "cell_type": "markdown",
   "metadata": {},
   "source": [
    "Task 3. Determine how many permutations in your results are actual English words, based on the vocabulary found in `scrabble_words.txt`.\n",
    "\n",
    "- Use permutation method (1).\n",
    "- Get count as difference between permutations and vocabulary (1)."
   ]
  },
  {
   "cell_type": "code",
   "execution_count": null,
   "metadata": {},
   "outputs": [],
   "source": [
    "with open(\"data/scrabble_words.txt\", 'r') as file:\n",
    "    scrabblewords = set(file.read().split())\n",
    "\n",
    "numperms4l = Analyzer(game4l).permutation_counts()\n",
    "\n",
    "wordmatch4l = sum(word in scrabblewords for word in numperms4l.index)"
   ]
  },
  {
   "cell_type": "markdown",
   "metadata": {},
   "source": [
    "Task 4. Repeat steps #2 and #3, this time with $5$ dice. How many actual words does this produce? Which produces more?\n",
    "\n",
    "- Successfully repreats steps (1).\n",
    "- Identifies parameter with most found words (1)."
   ]
  },
  {
   "cell_type": "code",
   "execution_count": null,
   "metadata": {},
   "outputs": [],
   "source": [
    "game5l = Game([ld, ld, ld, ld, ld])\n",
    "game5l.play(1000)\n",
    "\n",
    "numperms5l = Analyzer(game5l).permutation_counts()\n",
    "\n",
    "wordmatch5l = sum(word in scrabblewords for word in numperms5l.index)\n",
    "\n",
    "perc4 = (wordmatch4l / len(numperms4l)) * 100\n",
    "perc5 = (wordmatch5l / len(numperms5l)) * 100\n",
    "\n",
    "print(perc4)\n",
    "print(perc5)\n",
    "\n",
    "plt.bar(x=['4 Letter Words Perentage', '5 Letter Words Percentage'], height=[perc4, perc5])\n",
    "plt.show()\n",
    "\n",
    "# percentage of 4 letter words was more"
   ]
  },
  {
   "cell_type": "markdown",
   "metadata": {},
   "source": [
    "# Submission"
   ]
  },
  {
   "cell_type": "markdown",
   "metadata": {},
   "source": [
    "When finished completing the above tasks, save this file to your local repo (and within your project), and them push it to your GitHub repo.\n",
    "\n",
    "Then convert this file to a PDF and submit it to GradeScope according to the assignment instructions in Canvas."
   ]
  }
 ],
 "metadata": {
  "kernelspec": {
   "display_name": "Python 3",
   "language": "python",
   "name": "python3"
  },
  "language_info": {
   "codemirror_mode": {
    "name": "ipython",
    "version": 3
   },
   "file_extension": ".py",
   "mimetype": "text/x-python",
   "name": "python",
   "nbconvert_exporter": "python",
   "pygments_lexer": "ipython3",
   "version": "3.8.8"
  },
  "toc-autonumbering": true,
  "widgets": {
   "application/vnd.jupyter.widget-state+json": {
    "state": {},
    "version_major": 2,
    "version_minor": 0
   }
  }
 },
 "nbformat": 4,
 "nbformat_minor": 5
}
