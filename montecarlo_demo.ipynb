{
 "cells": [
  {
   "cell_type": "code",
   "execution_count": 68,
   "metadata": {},
   "outputs": [
    {
     "data": {
      "text/plain": [
       "507"
      ]
     },
     "execution_count": 68,
     "metadata": {},
     "output_type": "execute_result"
    }
   ],
   "source": [
    "from Demo.montecarlo import Die, Game, Analyzer\n",
    "\n",
    "import numpy as np\n",
    "import pandas as pd\n",
    "import matplotlib.pyplot as plt\n",
    "\n",
    "np.random.seed(5100)\n",
    "\n",
    "fcoin = Die(np.array(['H', 'T']))\n",
    "ucoin = Die(np.array(['H', 'T']))\n",
    "ucoin.change_weight('H', 5)\n",
    "\n",
    "gameff = Game([fcoin, fcoin])\n",
    "gameff.play(1000)\n",
    "\n",
    "gameuuf = Game([ucoin, ucoin, fcoin])\n",
    "gameuuf.play(1000)\n",
    "\n",
    "analyzff = Analyzer(gameff)\n",
    "analyzuuf = Analyzer(gameuuf)\n",
    "\n",
    "results = gameff.show_results()\n",
    "\n",
    "results\n",
    "results.eq(results.iloc[:, 0], axis=0).all(1).sum()\n",
    "\n",
    "# analyzff.jackpot()\n",
    "\n",
    "# numjackff = Analyzer(gameff).jackpot()\n",
    "# numjackuuf = Analyzer(gameuuf).jackpot()\n",
    "\n",
    "# reljackff = numjackff/1000\n",
    "# reljackuuf = numjackuuf/1000\n",
    "\n"
   ]
  }
 ],
 "metadata": {
  "kernelspec": {
   "display_name": "Python 3.8",
   "language": "python",
   "name": "python-3.8"
  },
  "language_info": {
   "codemirror_mode": {
    "name": "ipython",
    "version": 3
   },
   "file_extension": ".py",
   "mimetype": "text/x-python",
   "name": "python",
   "nbconvert_exporter": "python",
   "pygments_lexer": "ipython3",
   "version": "3.8.8"
  }
 },
 "nbformat": 4,
 "nbformat_minor": 4
}
