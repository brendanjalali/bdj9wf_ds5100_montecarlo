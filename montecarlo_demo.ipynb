{
 "cells": [
  {
   "cell_type": "code",
   "execution_count": 1,
   "metadata": {},
   "outputs": [
    {
     "name": "stdout",
     "output_type": "stream",
     "text": [
      ".:\n",
      "total 52\n",
      "drwxr-sr-x 3 bdj9wf users  1536 Nov  7 18:02 Demo\n",
      "-rw-r--r-- 1 bdj9wf users 17779 Nov  7 14:51 FinalProjectInstructions.ipynb\n",
      "-rw-r--r-- 1 bdj9wf users  1070 Nov  7 14:50 LICENSE\n",
      "-rw-r--r-- 1 bdj9wf users  1208 Nov  7 15:06 montecarlo_demo.ipynb\n",
      "-rw-r--r-- 1 bdj9wf users  3050 Nov  7 18:04 montecarlo_test.py\n",
      "-rw-r--r-- 1 bdj9wf users    76 Nov  7 14:50 README.md\n",
      "-rw-r--r-- 1 bdj9wf users   365 Nov  7 14:58 setup.py\n",
      "\n",
      "./Demo:\n",
      "total 12\n",
      "-rw-r--r-- 1 bdj9wf users   56 Nov  7 14:59 __init__.py\n",
      "-rw-r--r-- 1 bdj9wf users 3535 Nov  7 18:02 montecarlo.py\n"
     ]
    }
   ],
   "source": [
    "!ls -lR"
   ]
  },
  {
   "cell_type": "code",
   "execution_count": 2,
   "metadata": {},
   "outputs": [
    {
     "name": "stdout",
     "output_type": "stream",
     "text": [
      "Defaulting to user installation because normal site-packages is not writeable\n",
      "Obtaining file:///sfs/qumulo/qhome/bdj9wf/Documents/MSDS/DS5100/bdj9wf_ds5100_montecarlo\n",
      "Requirement already satisfied: pandas in /sfs/applications/202307/software/standard/core/anaconda/2020.11-py3.8/lib/python3.8/site-packages (from Demo==0.1) (1.1.3)\n",
      "Requirement already satisfied: numpy in /sfs/applications/202307/software/standard/core/anaconda/2020.11-py3.8/lib/python3.8/site-packages (from Demo==0.1) (1.19.2)\n",
      "Requirement already satisfied: matplotlib in /sfs/applications/202307/software/standard/core/anaconda/2020.11-py3.8/lib/python3.8/site-packages (from Demo==0.1) (3.3.2)\n",
      "Requirement already satisfied: pytz>=2017.2 in /sfs/applications/202307/software/standard/core/anaconda/2020.11-py3.8/lib/python3.8/site-packages (from pandas->Demo==0.1) (2020.1)\n",
      "Requirement already satisfied: python-dateutil>=2.7.3 in /sfs/applications/202307/software/standard/core/anaconda/2020.11-py3.8/lib/python3.8/site-packages (from pandas->Demo==0.1) (2.8.1)\n",
      "Requirement already satisfied: pillow>=6.2.0 in /sfs/applications/202307/software/standard/core/anaconda/2020.11-py3.8/lib/python3.8/site-packages (from matplotlib->Demo==0.1) (8.0.1)\n",
      "Requirement already satisfied: pyparsing!=2.0.4,!=2.1.2,!=2.1.6,>=2.0.3 in /sfs/applications/202307/software/standard/core/anaconda/2020.11-py3.8/lib/python3.8/site-packages (from matplotlib->Demo==0.1) (2.4.7)\n",
      "Requirement already satisfied: kiwisolver>=1.0.1 in /sfs/applications/202307/software/standard/core/anaconda/2020.11-py3.8/lib/python3.8/site-packages (from matplotlib->Demo==0.1) (1.3.0)\n",
      "Requirement already satisfied: certifi>=2020.06.20 in /sfs/applications/202307/software/standard/core/anaconda/2020.11-py3.8/lib/python3.8/site-packages (from matplotlib->Demo==0.1) (2020.12.5)\n",
      "Requirement already satisfied: cycler>=0.10 in /sfs/applications/202307/software/standard/core/anaconda/2020.11-py3.8/lib/python3.8/site-packages (from matplotlib->Demo==0.1) (0.10.0)\n",
      "Requirement already satisfied: six>=1.5 in /sfs/applications/202307/software/standard/core/anaconda/2020.11-py3.8/lib/python3.8/site-packages (from python-dateutil>=2.7.3->pandas->Demo==0.1) (1.15.0)\n",
      "Installing collected packages: Demo\n",
      "  Attempting uninstall: Demo\n",
      "    Found existing installation: Demo 0.1\n",
      "    Uninstalling Demo-0.1:\n",
      "      Successfully uninstalled Demo-0.1\n",
      "  Running setup.py develop for Demo\n",
      "Successfully installed Demo\n"
     ]
    }
   ],
   "source": [
    "!pip install -e ."
   ]
  },
  {
   "cell_type": "code",
   "execution_count": null,
   "metadata": {},
   "outputs": [],
   "source": [
    "!python ../montecarlo_demo.ipynb"
   ]
  },
  {
   "cell_type": "code",
   "execution_count": 3,
   "metadata": {},
   "outputs": [
    {
     "name": "stdout",
     "output_type": "stream",
     "text": [
      "Traceback (most recent call last):\n",
      "  File \"montecarlo_test.py\", line 1, in <module>\n",
      "    from montecarlo import Die, Game, Analyzer\n",
      "ModuleNotFoundError: No module named 'montecarlo'\n"
     ]
    }
   ],
   "source": [
    "!python montecarlo_test.py"
   ]
  },
  {
   "cell_type": "code",
   "execution_count": null,
   "metadata": {},
   "outputs": [],
   "source": [
    "!python montecarlo_test.py 2> montecarlo_test_results.txt"
   ]
  }
 ],
 "metadata": {
  "kernelspec": {
   "display_name": "Python 3.8",
   "language": "python",
   "name": "python-3.8"
  },
  "language_info": {
   "codemirror_mode": {
    "name": "ipython",
    "version": 3
   },
   "file_extension": ".py",
   "mimetype": "text/x-python",
   "name": "python",
   "nbconvert_exporter": "python",
   "pygments_lexer": "ipython3",
   "version": "3.8.8"
  }
 },
 "nbformat": 4,
 "nbformat_minor": 4
}
