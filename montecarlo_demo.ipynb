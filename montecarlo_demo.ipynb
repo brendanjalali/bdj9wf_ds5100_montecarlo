{
 "cells": [
  {
   "cell_type": "code",
   "execution_count": 62,
   "metadata": {},
   "outputs": [],
   "source": [
    "from Demo.montecarlo import Die, Game, Analyzer\n",
    "\n",
    "import numpy as np\n",
    "import pandas as pd\n",
    "import matplotlib.pyplot as plt\n",
    "\n",
    "np.random.seed(5100)"
   ]
  },
  {
   "cell_type": "code",
   "execution_count": 63,
   "metadata": {},
   "outputs": [
    {
     "data": {
      "image/png": "[encoded data removed]",
      "text/plain": [
       "<Figure size 432x288 with 1 Axes>"
      ]
     },
     "metadata": {
      "needs_background": "light"
     },
     "output_type": "display_data"
    }
   ],
   "source": [
    "fcoin = Die(np.array(['H', 'T']))\n",
    "ucoin = Die(np.array(['H', 'T']))\n",
    "ucoin.change_weight('H', 5)\n",
    "\n",
    "gameff = Game([fcoin, fcoin])\n",
    "gameff.play(1000)\n",
    "\n",
    "gameuuf = Game([ucoin, ucoin, fcoin])\n",
    "gameuuf.play(1000)\n",
    "\n",
    "numjackff = Analyzer(gameff).jackpot()\n",
    "numjackuuf = Analyzer(gameuuf).jackpot()\n",
    "\n",
    "reljackff = numjackff/1000\n",
    "reljackuuf = numjackuuf/1000\n",
    "\n",
    "plot1 = plt.bar(x = ['2 Fair Coins','2 Unfair Coins 1 Fair Coin'], height = [reljackff,reljackuuf])\n",
    "plt.show()"
   ]
  },
  {
   "cell_type": "code",
   "execution_count": 64,
   "metadata": {},
   "outputs": [
    {
     "data": {
      "image/png": "[encoded data removed]",
      "text/plain": [
       "<Figure size 432x288 with 1 Axes>"
      ]
     },
     "metadata": {
      "needs_background": "light"
     },
     "output_type": "display_data"
    }
   ],
   "source": [
    "d= Die(np.array([1, 2, 3, 4, 5, 6]))\n",
    "\n",
    "ud1 = Die(np.array([1, 2, 3, 4, 5, 6]))\n",
    "ud1.change_weight(6, 5)\n",
    "\n",
    "ud2 = Die(np.array([1, 2, 3, 4, 5, 6]))\n",
    "ud2.change_weight(1, 5)\n",
    "\n",
    "gamefffff = Game([d, d, d, d, d])\n",
    "gamefffff.play(10000)\n",
    "\n",
    "gameuufff = Game([ud1, ud2, d, d, d])\n",
    "gameuufff.play(10000)\n",
    "\n",
    "numjackfffff = Analyzer(gamefffff).jackpot()\n",
    "numjackuufff = Analyzer(gameuufff).jackpot()\n",
    "\n",
    "reljackfffff = numjackfffff / 10000\n",
    "reljackuufff = numjackuufff / 10000\n",
    "\n",
    "plt.bar(x=['Fair Game', 'Unfair Game'], height=[reljackfffff, reljackuufff])\n",
    "plt.show()"
   ]
  },
  {
   "cell_type": "code",
   "execution_count": 65,
   "metadata": {},
   "outputs": [
    {
     "data": {
      "image/png": "[encoded data removed]",
      "text/plain": [
       "<Figure size 432x288 with 1 Axes>"
      ]
     },
     "metadata": {
      "needs_background": "light"
     },
     "output_type": "display_data"
    }
   ],
   "source": [
    "letterdf = pd.read_csv(\"data/english_letters.txt\", sep=' ', header=None, names=['Letters', 'Frequencies'])\n",
    "with open(\"data/scrabble_words.txt\", 'r') as file:\n",
    "    scrabblewords = set(file.read().split())\n",
    "\n",
    "ld = Die(np.array(list(letterdf[\"Letters\"])))\n",
    "freqs = np.array(list(letterdf[\"Frequencies\"]))\n",
    "\n",
    "for index, row in letterdf.iterrows():\n",
    "    ld.change_weight(row['Letters'], row['Frequencies'])\n",
    "    \n",
    "game4l = Game([ld, ld, ld, ld])\n",
    "game4l.play(1000)\n",
    "\n",
    "numperms4l = Analyzer(game4l).permutation_counts()\n",
    "\n",
    "wordmatch4l = sum(word in scrabblewords for word in numperms4l.index)\n",
    "\n",
    "game5l = Game([ld, ld, ld, ld, ld])\n",
    "game5l.play(1000)\n",
    "\n",
    "numperms5l = Analyzer(game5l).permutation_counts()\n",
    "\n",
    "wordmatch5l = sum(word in scrabblewords for word in numperms5l.index)\n",
    "\n",
    "perc4 = (wordmatch4l / len(numperms4l)) * 100\n",
    "perc5 = (wordmatch5l / len(numperms5l)) * 100\n",
    "\n",
    "plt.bar(x=['4 Letter Words Perentage', '5 Letter Words Percentage'], height=[perc4, perc5])\n",
    "plt.show()"
   ]
  },
  {
   "cell_type": "code",
   "execution_count": null,
   "metadata": {},
   "outputs": [],
   "source": []
  }
 ],
 "metadata": {
  "kernelspec": {
   "display_name": "Python 3.8",
   "language": "python",
   "name": "python-3.8"
  },
  "language_info": {
   "codemirror_mode": {
    "name": "ipython",
    "version": 3
   },
   "file_extension": ".py",
   "mimetype": "text/x-python",
   "name": "python",
   "nbconvert_exporter": "python",
   "pygments_lexer": "ipython3",
   "version": "3.8.8"
  }
 },
 "nbformat": 4,
 "nbformat_minor": 4
}
